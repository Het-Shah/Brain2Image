{
  "nbformat": 4,
  "nbformat_minor": 0,
  "metadata": {
    "colab": {
      "name": "Brain2Image.ipynb",
      "provenance": [],
      "collapsed_sections": [],
      "authorship_tag": "ABX9TyMTLIPkSHWjrL/Gxam4pD9g",
      "include_colab_link": true
    },
    "kernelspec": {
      "name": "python3",
      "display_name": "Python 3"
    },
    "accelerator": "GPU"
  },
  "cells": [
    {
      "cell_type": "markdown",
      "metadata": {
        "id": "view-in-github",
        "colab_type": "text"
      },
      "source": [
        "<a href=\"https://colab.research.google.com/github/Het-Shah/Brain2Image/blob/master/Brain2Image.ipynb\" target=\"_parent\"><img src=\"https://colab.research.google.com/assets/colab-badge.svg\" alt=\"Open In Colab\"/></a>"
      ]
    },
    {
      "cell_type": "code",
      "metadata": {
        "id": "BBjSBEH8gbTW",
        "colab_type": "code",
        "colab": {
          "base_uri": "https://localhost:8080/",
          "height": 204
        },
        "outputId": "d8da931c-4390-4ab4-804d-229bd43ccfe6"
      },
      "source": [
        "!wget http://www.mindbigdata.com/opendb/MindBigData-IN-v1.06.zip\n",
        "!unzip MindBigData-IN-v1.06.zip"
      ],
      "execution_count": 1,
      "outputs": [
        {
          "output_type": "stream",
          "text": [
            "--2020-03-19 14:13:29--  http://www.mindbigdata.com/opendb/MindBigData-IN-v1.06.zip\n",
            "Resolving www.mindbigdata.com (www.mindbigdata.com)... 86.109.162.167\n",
            "Connecting to www.mindbigdata.com (www.mindbigdata.com)|86.109.162.167|:80... connected.\n",
            "HTTP request sent, awaiting response... 200 OK\n",
            "Length: 26610979 (25M) [application/zip]\n",
            "Saving to: ‘MindBigData-IN-v1.06.zip’\n",
            "\n",
            "MindBigData-IN-v1.0 100%[===================>]  25.38M  1.45MB/s    in 18s     \n",
            "\n",
            "2020-03-19 14:13:53 (1.39 MB/s) - ‘MindBigData-IN-v1.06.zip’ saved [26610979/26610979]\n",
            "\n"
          ],
          "name": "stdout"
        }
      ]
    },
    {
      "cell_type": "code",
      "metadata": {
        "id": "_KJ9XX99QFyh",
        "colab_type": "code",
        "colab": {}
      },
      "source": [
        "import pandas as pd\n",
        "import numpy as np "
      ],
      "execution_count": 0,
      "outputs": []
    },
    {
      "cell_type": "code",
      "metadata": {
        "id": "LIrXjwHQQKjZ",
        "colab_type": "code",
        "colab": {
          "base_uri": "https://localhost:8080/",
          "height": 204
        },
        "outputId": "a96046c6-7363-4bf7-f174-b640431bb2c4"
      },
      "source": [
        "df = pd.read_csv(\"IN.txt\",sep=\"\\t\",header=None)\n",
        "df.columns = ['id','event','device','channel','code','size','data']\n",
        "df.head()"
      ],
      "execution_count": 47,
      "outputs": [
        {
          "output_type": "execute_result",
          "data": {
            "text/html": [
              "<div>\n",
              "<style scoped>\n",
              "    .dataframe tbody tr th:only-of-type {\n",
              "        vertical-align: middle;\n",
              "    }\n",
              "\n",
              "    .dataframe tbody tr th {\n",
              "        vertical-align: top;\n",
              "    }\n",
              "\n",
              "    .dataframe thead th {\n",
              "        text-align: right;\n",
              "    }\n",
              "</style>\n",
              "<table border=\"1\" class=\"dataframe\">\n",
              "  <thead>\n",
              "    <tr style=\"text-align: right;\">\n",
              "      <th></th>\n",
              "      <th>id</th>\n",
              "      <th>event</th>\n",
              "      <th>device</th>\n",
              "      <th>channel</th>\n",
              "      <th>code</th>\n",
              "      <th>size</th>\n",
              "      <th>data</th>\n",
              "    </tr>\n",
              "  </thead>\n",
              "  <tbody>\n",
              "    <tr>\n",
              "      <th>0</th>\n",
              "      <td>1142043</td>\n",
              "      <td>173652</td>\n",
              "      <td>IN</td>\n",
              "      <td>AF3</td>\n",
              "      <td>0</td>\n",
              "      <td>256</td>\n",
              "      <td>4259.487179,4237.948717,4247.179487,4242.05128...</td>\n",
              "    </tr>\n",
              "    <tr>\n",
              "      <th>1</th>\n",
              "      <td>1142044</td>\n",
              "      <td>173652</td>\n",
              "      <td>IN</td>\n",
              "      <td>AF4</td>\n",
              "      <td>0</td>\n",
              "      <td>256</td>\n",
              "      <td>4103.076923,4100.512820,4102.564102,4087.69230...</td>\n",
              "    </tr>\n",
              "    <tr>\n",
              "      <th>2</th>\n",
              "      <td>1142045</td>\n",
              "      <td>173652</td>\n",
              "      <td>IN</td>\n",
              "      <td>T7</td>\n",
              "      <td>0</td>\n",
              "      <td>256</td>\n",
              "      <td>4245.128205,4218.461538,4242.051282,4245.12820...</td>\n",
              "    </tr>\n",
              "    <tr>\n",
              "      <th>3</th>\n",
              "      <td>1142046</td>\n",
              "      <td>173652</td>\n",
              "      <td>IN</td>\n",
              "      <td>T8</td>\n",
              "      <td>0</td>\n",
              "      <td>256</td>\n",
              "      <td>4208.717948,4188.717948,4204.102564,4198.46153...</td>\n",
              "    </tr>\n",
              "    <tr>\n",
              "      <th>4</th>\n",
              "      <td>1142047</td>\n",
              "      <td>173652</td>\n",
              "      <td>IN</td>\n",
              "      <td>PZ</td>\n",
              "      <td>0</td>\n",
              "      <td>256</td>\n",
              "      <td>4189.230769,4203.589743,4188.717948,4186.66666...</td>\n",
              "    </tr>\n",
              "  </tbody>\n",
              "</table>\n",
              "</div>"
            ],
            "text/plain": [
              "        id   event  ... size                                               data\n",
              "0  1142043  173652  ...  256  4259.487179,4237.948717,4247.179487,4242.05128...\n",
              "1  1142044  173652  ...  256  4103.076923,4100.512820,4102.564102,4087.69230...\n",
              "2  1142045  173652  ...  256  4245.128205,4218.461538,4242.051282,4245.12820...\n",
              "3  1142046  173652  ...  256  4208.717948,4188.717948,4204.102564,4198.46153...\n",
              "4  1142047  173652  ...  256  4189.230769,4203.589743,4188.717948,4186.66666...\n",
              "\n",
              "[5 rows x 7 columns]"
            ]
          },
          "metadata": {
            "tags": []
          },
          "execution_count": 47
        }
      ]
    },
    {
      "cell_type": "code",
      "metadata": {
        "id": "RcJaykFsRIpf",
        "colab_type": "code",
        "colab": {}
      },
      "source": [
        "unique_ids = df['event'].unique()\n",
        "AF3 = []\n",
        "AF4 = []\n",
        "T7 = []\n",
        "T8 = []\n",
        "PZ = []\n",
        "code = []\n",
        "for id in unique_ids:\n",
        "  point = df.query('event == '+str(id))\n",
        "  if len(point) > 0:\n",
        "    code.append(point['code'].unique()[0])\n",
        "    AF3.append(point.iloc(0)[0]['data'].split(','))\n",
        "    AF4.append(point.iloc(0)[1]['data'].split(','))\n",
        "    T7.append(point.iloc(0)[2]['data'].split(','))\n",
        "    T8.append(point.iloc(0)[3]['data'].split(','))\n",
        "    PZ.append(point.iloc(0)[4]['data'].split(','))\n",
        "  # print(point.iloc(0))"
      ],
      "execution_count": 0,
      "outputs": []
    },
    {
      "cell_type": "code",
      "metadata": {
        "id": "5ZqEEnvoUGof",
        "colab_type": "code",
        "colab": {
          "base_uri": "https://localhost:8080/",
          "height": 71
        },
        "outputId": "d4553191-d872-4108-f106-dd0100178daf"
      },
      "source": [
        "print(len(AF3))\n",
        "print(AF3[0])\n",
        "# print(AF4)\n",
        "# print(T7)\n",
        "# print(T8)\n",
        "# print(PZ)\n",
        "# print(len(code))"
      ],
      "execution_count": 83,
      "outputs": [
        {
          "output_type": "stream",
          "text": [
            "13050\n",
            "['4259.487179', '4237.948717', '4247.179487', '4242.051282', '4233.333333', '4251.282051', '4232.820512', '4234.358974', '4224.615384', '4219.487179', '4249.743589', '4238.461538', '4245.641025', '4244.615384', '4223.076923', '4240.512820', '4234.358974', '4240.512820', '4235.384615', '4224.102564', '4255.384615', '4243.589743', '4243.589743', '4248.205128', '4226.666666', '4244.102564', '4228.717948', '4225.641025', '4236.923076', '4208.717948', '4226.153846', '4234.871794', '4234.871794', '4245.641025', '4233.846153', '4263.076923', '4261.025641', '4244.615384', '4261.025641', '4242.051282', '4243.589743', '4233.333333', '4221.025641', '4241.538461', '4235.384615', '4250.256410', '4235.897435', '4221.538461', '4268.717948', '4257.435897', '4238.974358', '4232.307692', '4218.461538', '4244.615384', '4236.410256', '4235.384615', '4246.666666', '4238.461538', '4252.820512', '4234.358974', '4232.820512', '4247.692307', '4234.871794', '4260.000000', '4249.230769', '4233.846153', '4251.282051', '4249.230769', '4272.820512', '4265.128205', '4256.410256', '4265.641025', '4233.333333', '4253.846153', '4256.923076', '4238.461538', '4265.641025', '4256.923076', '4254.871794', '4251.794871', '4244.615384', '4262.051282', '4255.897435', '4269.743589', '4249.743589', '4224.102564', '4263.076923', '4247.179487', '4232.307692', '4249.230769', '4240.000000', '4250.769230', '4238.461538', '4241.538461', '4254.358974', '4238.974358', '4257.948717', '4235.384615', '4223.076923', '4259.487179', '4253.846153', '4252.307692', '4233.846153', '4228.205128', '4251.794871', '4246.153846', '4267.692307', '4254.871794', '4225.128205', '4238.974358', '4236.923076', '4258.461538', '4246.666666', '4228.717948', '4256.923076', '4237.435897', '4245.128205', '4260.512820', '4240.512820', '4249.743589', '4229.743589', '4228.717948', '4254.871794', '4265.128205', '4283.076923', '4251.282051', '4250.769230', '4274.871794', '4255.897435', '4263.589743', '4249.230769', '4246.666666', '4263.076923', '4241.538461', '4264.615384', '4264.102564', '4240.000000', '4249.230769', '4245.128205', '4261.538461', '4259.487179', '4253.333333', '4264.102564', '4251.282051', '4282.051282', '4272.307692', '4241.538461', '4280.512820', '4269.230769', '4248.717948', '4253.333333', '4250.256410', '4256.410256', '4237.435897', '4257.435897', '4276.410256', '4261.538461', '4271.282051', '4248.205128', '4260.000000', '4278.461538', '4238.461538', '4251.282051', '4268.205128', '4285.128205', '4296.923076', '4262.564102', '4266.153846', '4264.102564', '4267.692307', '4289.230769', '4267.692307', '4276.410256', '4278.461538', '4283.589743', '4314.871794', '4292.307692', '4280.512820', '4270.256410', '4265.641025', '4287.692307', '4257.948717', '4264.102564', '4289.230769', '4280.000000', '4294.358974', '4288.717948', '4295.897435', '4289.230769', '4257.435897', '4280.000000', '4283.076923', '4291.282051', '4290.769230', '4254.358974', '4272.820512', '4271.794871', '4269.230769', '4290.769230', '4276.923076', '4287.692307', '4277.435897', '4262.564102', '4277.435897', '4274.871794', '4295.384615', '4277.948717', '4259.487179', '4289.230769', '4271.794871', '4274.358974', '4280.512820', '4271.794871', '4283.076923', '4267.179487', '4290.256410', '4300.512820', '4261.538461', '4257.435897', '4256.410256', '4282.051282', '4288.717948', '4263.076923', '4282.051282', '4278.461538', '4290.769230', '4306.153846', '4268.717948', '4268.205128', '4261.538461', '4274.871794', '4302.051282', '4268.717948', '4264.102564', '4269.743589', '4277.948717', '4283.076923', '4262.051282', '4287.692307', '4281.025641', '4260.000000', '4282.564102', '4275.897435', '4288.717948', '4287.692307', '4273.333333', '4287.179487', '4260.000000', '4271.282051', '4286.666666', '4255.384615', '4257.948717', '4254.358974', '4271.794871', '4279.487179', '4255.897435']\n"
          ],
          "name": "stdout"
        }
      ]
    },
    {
      "cell_type": "code",
      "metadata": {
        "id": "7WHeKl5QWjBe",
        "colab_type": "code",
        "colab": {}
      },
      "source": [
        "for j in range(len(AF3)):\n",
        "  for i in range(len(AF3[j])):\n",
        "    AF3[j][i] = float(AF3[j][i])\n",
        "\n",
        "for j in range(len(AF4)):\n",
        "  for i in range(len(AF4[j])):\n",
        "    AF4[j][i] = float(AF4[j][i])\n",
        "\n",
        "for j in range(len(T7)):\n",
        "  for i in range(len(T7[j])):\n",
        "    T7[j][i] = float(T7[j][i])\n",
        "\n",
        "for j in range(len(T8)):\n",
        "  for i in range(len(T8[j])):\n",
        "    T8[j][i] = float(T8[j][i])\n",
        "\n",
        "for j in range(len(PZ)):\n",
        "  for i in range(len(PZ[j])):\n",
        "    PZ[j][i] = float(PZ[j][i])\n",
        "\n",
        "code = [int(i) for i in code]"
      ],
      "execution_count": 0,
      "outputs": []
    },
    {
      "cell_type": "code",
      "metadata": {
        "id": "p2QDYP6IXpXB",
        "colab_type": "code",
        "colab": {
          "base_uri": "https://localhost:8080/",
          "height": 51
        },
        "outputId": "e9b72e12-c954-4c92-d6b2-f506bdf0bb4c"
      },
      "source": [
        "print(len(AF3))\n",
        "print(len(code))"
      ],
      "execution_count": 97,
      "outputs": [
        {
          "output_type": "stream",
          "text": [
            "13050\n",
            "13050\n"
          ],
          "name": "stdout"
        }
      ]
    }
  ]
}